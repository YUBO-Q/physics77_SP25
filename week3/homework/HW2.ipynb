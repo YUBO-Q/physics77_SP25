{
 "cells": [
  {
   "cell_type": "markdown",
   "id": "3ad83fe4-4975-474b-8758-6c085d669519",
   "metadata": {},
   "source": [
    "# Homework 2\n",
    "\n",
    "**due by 8:59 pm Thursday, February 20, 2025**\n",
    "\n",
    "### Submission instruction\n",
    "- please submit the PDF version of this assignment to Gradescope, and the .ipynb (notebook) to bcourses site. "
   ]
  },
  {
   "cell_type": "markdown",
   "id": "b3420e05-d739-4194-9ee4-fa783a533f82",
   "metadata": {},
   "source": [
    "## Problem 1: PEP 8 Compliance Check (30 pt)\n",
    "\n",
    "In this exercise, you will review a Python script for **PEP 8 style violations**. Your task is to identify **five unique types of non-compliance issues** and correct them according to **PEP 8 guidelines**.\n",
    "\n",
    "## **Instructions**\n",
    "1. Read the official Python style guide: **[PEP 8 – Style Guide for Python Code](https://peps.python.org/pep-0008/)**.\n",
    "2. Analyze the Python script below and identify **five different types of PEP 8 violations**.\n",
    "3. List the issues you find and explain why each one is **not compliant with PEP 8**.\n",
    "4. Correct the script to **follow PEP 8 standards**.\n",
    "5. Submit both:\n",
    "   - The **list of issues** you found.\n",
    "   - The **corrected version of the script**.\n",
    "\n",
    "## **Python Script to Review**\n",
    "```python\n",
    "import random,sys  \n",
    "\n",
    "def calculate_area(length,width):  \n",
    "    if length>0 and width>0:  \n",
    "        return length*width  \n",
    "    else:\n",
    "        print (\"Invalid input\")  \n",
    "\n",
    "print(calculate_area(5,10))  \n",
    "```"
   ]
  },
  {
   "cell_type": "markdown",
   "id": "b281acdf-1a7e-4db0-8aef-26835f021b26",
   "metadata": {},
   "source": [
    "### part 1: (20 pt)\n",
    "Confirm that you have read PEP 8 by typing your name in the markdown cell below"
   ]
  },
  {
   "cell_type": "markdown",
   "id": "24a4d8aa-9fb0-4c4f-85be-48884294c7a2",
   "metadata": {},
   "source": [
    "Your confirmation:"
   ]
  },
  {
   "cell_type": "markdown",
   "id": "525332d9-719a-40e0-b942-2d7aa1c59e54",
   "metadata": {},
   "source": [
    "### part 2:  (10 pt)\n",
    "For each issue you find, explain:\n",
    "   - **Which line** is non-compliant.\n",
    "   - **Why** it does not follow PEP 8.\n",
    "   - **How** to correct it.\n",
    "You will receive **10 points** as long as you correctly identify at least **three out of the five issues**.\n"
   ]
  },
  {
   "cell_type": "markdown",
   "id": "dec845b6-3b5a-4210-a449-f96b2039ea32",
   "metadata": {},
   "source": [
    "Your answer:\n",
    "\n",
    "Issue 1:\n",
    "\n",
    "Issue 2:\n",
    "\n",
    "Issue 3:\n",
    "\n",
    "Issue 4:\n",
    "\n",
    "Issue 5:\n",
    "\n"
   ]
  },
  {
   "cell_type": "markdown",
   "id": "2c2df0f4-fce6-4d45-9dea-5cc0ca1b69b1",
   "metadata": {},
   "source": [
    "---\n",
    "## Problem 2: Number Guessing Game with Hints (40pt)\n",
    "\n",
    "In this problem, you will build a simple number guessing game using Python control structures. The program should generate a random number between 1 and 100 and prompt the user to guess it. The game will continue until the user guesses the correct number.\n",
    "\n",
    "Each time the user makes a guess, the program should:\n",
    "1. Tell the user if their guess is **too high** or **too low**.\n",
    "2. Keep track of the number of guesses.\n",
    "3. End the game when the user guesses the correct number, displaying the total number of attempts.\n",
    "\n",
    "### **Learning Objectives**\n",
    "- Understand and implement loops (`while` loops).\n",
    "- Use `if`, `elif`, and `else` statements for decision-making.\n",
    "- Work with user input and convert data types.\n",
    "- Utilize the `random` module for generating random numbers. \n",
    "\n",
    "### **Requirements**\n",
    "1. The entire game is implemented in a function. Once defined, you can play the game by calling this function. (5 pt)\n",
    "2. Generate a random number between 1 and 100. (Hint: can you do a web search and see how this can be achieved?) (5 pt)\n",
    "3. Prompt the user to enter their guess. (Use python built-in function input to allow users to enter their guesses) (5 pt)\n",
    "4. Use a loop to repeatedly check the user's guess. (which type of loop would you implement?) (5 pt)\n",
    "5. Provide hints (too high, too low) until they guess correctly. (5 pt)\n",
    "6. Keep track of the number of attempts. When the correct number is found, print out how many guesses the user made. (5 pt) \n",
    "7. Display a success message when the user guesses correctly. (5 pt)\n",
    "8. Use try-except structure to report error of incorret user input (e.g., the user did not enter an integer) (5 pt)\n"
   ]
  },
  {
   "cell_type": "code",
   "execution_count": null,
   "id": "a166197b-6e89-4fc2-8eb2-0a94c47ae58c",
   "metadata": {},
   "outputs": [],
   "source": [
    "# Your answer"
   ]
  },
  {
   "cell_type": "markdown",
   "id": "20694bc0-3ce0-4062-8d0c-8fc5befcf4c6",
   "metadata": {},
   "source": [
    "## Problem 3: Password Strength Checker (30 pt)\n",
    "\n",
    "In this problem, you will create a **password strength checker** using Python control structures, functions, and string operations **without using the `string` module**. The program will ask the user to input a password and evaluate its strength based on the following criteria:\n",
    "\n",
    "- **Weak Password**: Less than 6 characters OR contains only letters or only digits.\n",
    "- **Moderate Password**: At least 6 characters long and contains both letters and numbers.\n",
    "- **Strong Password**: At least 8 characters long and contains letters, numbers, and at least one special character.\n",
    "\n",
    "Only the following special characters will be considered:  \n",
    "**`!@#$%^&*()-+`**  \n",
    "\n",
    "### **Learning Objectives**\n",
    "- Define and use functions in Python.\n",
    "- Work with loops (`for` loops and `while` loops).\n",
    "- Use conditional statements (`if-elif-else`).\n",
    "- Apply string operations manually **without using the `string` module**.\n",
    "\n",
    "### **Requirements**\n",
    "1. Define a function `check_password_strength(password)` that: \n",
    "   - Checks the length of the password. (5 pt)\n",
    "   - Determines whether the password contains **letters**, **digits**, and **special characters** (`!@#$%^&*()-+`). (10 pt)\n",
    "   - Classifies the password as **Weak**, **Moderate**, or **Strong** based on the rules above. (10 pt)\n",
    "2. **Do not use the `string` module.** Instead, manually check for:\n",
    "   - Letters (`'a' <= char <= 'z'` or `'A' <= char <= 'Z'`).\n",
    "   - Digits (`'0' <= char <= '9'`).\n",
    "   - Special characters (`!@#$%^&*()-+`).\n",
    "3. Prompt the user to enter a password. (print out a message to ask a user to enter their password) (5 pt)\n",
    "4. Call the function to evaluate the password. \n",
    "5. Print the password strength classification. \n",
    "6. Test your function on these passwards: thisisaverylongpassword, 4sA%, P@ssword1234 (you must test all three passwords to receive credit for this problem. )\n"
   ]
  },
  {
   "cell_type": "code",
   "execution_count": null,
   "id": "646be554-4a8d-4f7d-915d-03449561573a",
   "metadata": {},
   "outputs": [],
   "source": [
    "# Your answer"
   ]
  },
  {
   "cell_type": "markdown",
   "id": "e599d03f-f8fc-4006-a9fe-5c9be2f5e6a4",
   "metadata": {},
   "source": [
    "## Required disclosure of use of AI technologies for homework assignment \n",
    "\n",
    "Please indicate whether you used AI to complete this homework. If you did, explain how you used it in this markdown cell.\n",
    "\n",
    "**Without completing the answer below, you will receive 0 points for this entire homework assignment.**"
   ]
  },
  {
   "cell_type": "code",
   "execution_count": null,
   "id": "a6c43480-09ae-49f2-8b90-89ee8f9b87c4",
   "metadata": {},
   "outputs": [],
   "source": []
  }
 ],
 "metadata": {
  "kernelspec": {
   "display_name": "Python 3 (ipykernel)",
   "language": "python",
   "name": "python3"
  },
  "language_info": {
   "codemirror_mode": {
    "name": "ipython",
    "version": 3
   },
   "file_extension": ".py",
   "mimetype": "text/x-python",
   "name": "python",
   "nbconvert_exporter": "python",
   "pygments_lexer": "ipython3",
   "version": "3.11.11"
  }
 },
 "nbformat": 4,
 "nbformat_minor": 5
}
