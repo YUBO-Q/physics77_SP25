{
 "cells": [
  {
   "cell_type": "markdown",
   "id": "d358f882-d912-4167-a722-8be3604d7468",
   "metadata": {},
   "source": [
    "# Lecture 3\n",
    "\n",
    "February 10, 2025\n",
    "\n",
    "\n",
    "# Plan for today\n",
    "---\n",
    "### 1. Recap of lecture 2\n",
    "### 2. Strings\n",
    "### 3. Control structures in Python\n",
    "### 4. Quiz\n",
    "### 5. Numpy array intro (time permits)\n",
    "---"
   ]
  },
  {
   "cell_type": "markdown",
   "id": "fbc5cabd-4c38-41f5-8af7-4c26e2160c3c",
   "metadata": {},
   "source": [
    "---\n",
    "# Part 1 : Recap of Lecture 2\n",
    "\n",
    "## Part 1.1 📌 Summary of Data Types and Data Structures in Python\n",
    "\n",
    "In the last lecture, we covered **data types** and **data structures**, which are fundamental to Python programming.\n",
    "\n",
    "---\n",
    "\n",
    "### 🏷️ Data Types\n",
    "Python has several built-in data types that define the kind of values a variable can hold.\n",
    "\n",
    "1. **Integer (`int`)** – Whole numbers (e.g., `1`, `100`, `-50`).\n",
    "2. **Floating Point (`float`)** – Numbers with decimals (e.g., `3.14`, `-2.5`).\n",
    "3. **Boolean (`bool`)** – Logical values (`True` or `False`).\n",
    "4. **String (`str`)** – Sequence of characters (e.g., `\"Hello\"`, `'Python'`).\n",
    "\n",
    "---\n",
    "\n",
    "### 📦 Data Structures\n",
    "Python provides built-in data structures to store and manage collections of data efficiently.\n",
    "\n",
    "#### **1️⃣ List (`list`)**\n",
    "- Ordered, **mutable** (can be modified), and allows **duplicate** elements.\n",
    "- Elements can be accessed using **indexing**.\n",
    "- Supports **dynamic resizing**.\n",
    "\n",
    "#### **2️⃣ Tuple (`tuple`)**\n",
    "- Ordered, **immutable** (cannot be changed after creation), and allows **duplicates**.\n",
    "- Often used for **fixed collections** of data.\n",
    "\n",
    "#### **3️⃣ Set (`set`)**\n",
    "- **Unordered**, **mutable**, and does **not allow duplicates**.\n",
    "- Useful for **removing duplicate values** and performing **set operations** (union, intersection, etc.).\n",
    "\n",
    "#### **4️⃣ Dictionary (`dict`)**\n",
    "- Stores **key-value pairs**, where each key must be unique.\n",
    "- **Mutable** but **unordered** (in versions < Python 3.7).\n",
    "- Fast lookups using **keys** instead of indexes.\n",
    "\n",
    "---\n",
    "\n",
    "#### 🔥 Key Takeaways\n",
    "- **Lists** and **tuples** store ordered collections, but **lists are mutable**, while **tuples are immutable**.\n",
    "- **Sets** ensure unique values and allow fast membership checks.\n",
    "- **Dictionaries** store **key-value pairs** for fast lookups.\n",
    "- Choosing the right data structure depends on **use cases** (e.g., mutability, ordering, and performance).\n",
    "\n",
    "🚀 Mastering these data structures is crucial for efficient Python programming!\n",
    "\"\"\"\n"
   ]
  },
  {
   "cell_type": "markdown",
   "id": "302975a3-136e-4e9a-8af5-6dd48bb06746",
   "metadata": {},
   "source": [
    "\n",
    "## Part 1.2 🚀 Quick Recap of Functions in Python\n",
    "\n",
    "Functions are reusable blocks of code that perform specific tasks. They help **organize**, **modularize**, and **reuse** code efficiently.\n",
    "\n",
    "---\n",
    "\n",
    "#### 🔹 Why Use Functions?\n",
    "- **Code Reusability** – Write once, use multiple times.\n",
    "- **Improved Readability** – Breaks code into smaller, manageable chunks.\n",
    "- **Easier Debugging** – Isolate errors in a single function.\n",
    "- **Encapsulation** – Hide implementation details and improve maintainability.\n",
    "\n",
    "---\n",
    "\n",
    "#### 🔹 Defining and Calling Functions\n",
    "- Use the `def` keyword to define a function.\n",
    "- Functions can take **parameters** (inputs) and **return** values.\n",
    "- A function must be called to execute.\n",
    "\n",
    "---\n",
    "\n",
    "#### 🔹 Function Components\n",
    "1. **Function Definition** – Declaring a function using `def`.\n",
    "2. **Parameters (Arguments)** – Optional inputs passed to the function.\n",
    "3. **Return Statement** – Outputs a value (or `None` if no return is specified).\n",
    "4. **Function Call** – Executing the function.\n",
    "\n",
    "---\n",
    "\n",
    "#### 🔹 Types of Functions\n",
    "1. **Built-in Functions** – Predefined functions like `print()`, `len()`, `type()`, etc.\n",
    "2. **User-defined Functions** – Custom functions created using `def`.\n",
    "3. **Recursive Functions** – Functions that call themselves.\n",
    "\n",
    "---\n",
    "\n",
    "#### 🔹 Function Arguments\n",
    "- **Positional Arguments** – Passed in the order defined.\n",
    "- **Keyword Arguments** – Explicitly specify argument names.\n",
    "- **Default Arguments** – Provide default values if none are given.\n",
    "- **Variable-Length Arguments** – Use `*args` (multiple positional) or `**kwargs` (multiple keyword arguments).\n",
    "\n",
    "---\n",
    "\n",
    "### 🔹 Key Takeaways\n",
    "✅ Functions **reduce redundancy** and make code **modular**.  \n",
    "✅ Use **parameters** and **return statements** for flexibility.  \n",
    "✅ Use **built-in functions** when possible for efficiency.  \n",
    "✅ Understanding function types (regular, lambda, recursion) helps in **writing clean and efficient** code.  \n",
    "\n",
    "🚀 Mastering functions is crucial for writing scalable Python programs!\n",
    "\"\"\"\n"
   ]
  },
  {
   "cell_type": "markdown",
   "id": "e34df247-c1ca-4270-a93e-d07fb7cc5322",
   "metadata": {},
   "source": [
    "---\n",
    "Any question?\n",
    "---"
   ]
  },
  {
   "cell_type": "markdown",
   "id": "f46b1a47-05c9-4b91-a827-aadec47c87db",
   "metadata": {},
   "source": [
    "---\n",
    "\n",
    "# Part 2: ✅ 5️⃣ **Strings**\n",
    "\n",
    "- **Definition:** A sequence of characters (technically immutable, but often treated like a basic data structure).\n",
    "- **Usage:** Store text data.\n",
    "\n",
    "### **Key Features:**\n",
    "- Ordered\n",
    "- Immutable\n",
    "- Supports slicing and string methods"
   ]
  },
  {
   "cell_type": "code",
   "execution_count": 36,
   "id": "5632ea30-038a-4372-b307-fd83181bb5b0",
   "metadata": {},
   "outputs": [
    {
     "name": "stdout",
     "output_type": "stream",
     "text": [
      "H\n",
      "!\n"
     ]
    }
   ],
   "source": [
    "# Ordered (Indexing & Slicing)\n",
    "message = \"Hello, World!\"\n",
    "print(message[0])         # Output: H\n",
    "print(message[-1])        # Output: !"
   ]
  },
  {
   "cell_type": "code",
   "execution_count": 37,
   "id": "8f0f6699-917b-4be5-a1db-1eac21b72e0c",
   "metadata": {},
   "outputs": [],
   "source": [
    "# Immutable\n",
    "# message[0] = \"h\"        # This will raise an error: TypeError: 'str' object does not support item assignment\n"
   ]
  },
  {
   "cell_type": "code",
   "execution_count": 38,
   "id": "04089f71-ed75-4b99-b511-1a8b8b8e2476",
   "metadata": {},
   "outputs": [
    {
     "name": "stdout",
     "output_type": "stream",
     "text": [
      "HELLO, WORLD!\n",
      "hello, world!\n",
      "Hello, Python!\n"
     ]
    }
   ],
   "source": [
    "# String Methods\n",
    "print(message.upper())    # Output: HELLO, WORLD!\n",
    "print(message.lower())    # Output: hello, world!\n",
    "print(message.replace(\"World\", \"Python\"))  # Output: Hello, Python!"
   ]
  },
  {
   "cell_type": "code",
   "execution_count": 62,
   "id": "bea510cd-56fd-4e28-80e8-2f2e96e1751a",
   "metadata": {},
   "outputs": [
    {
     "name": "stdout",
     "output_type": "stream",
     "text": [
      "Hello\n",
      "!dlroW ,olleH\n"
     ]
    }
   ],
   "source": [
    "# Slicing\n",
    "print(message[0:5])       # Output: Hello\n",
    "print(message[::-1])      # Output: !dlroW ,olleH (reversing the string)"
   ]
  },
  {
   "cell_type": "markdown",
   "id": "072251c8-acc0-4595-86f7-280447363562",
   "metadata": {},
   "source": [
    "### 🔍 How to Check if a String Contains a Substring in Python\n",
    "\n",
    "Python provides multiple ways to check whether a string contains a substring. Below are a few common methods:\n",
    "\n",
    "---\n",
    "\n",
    "#### ✅ 1. Using the `in` Operator (Recommended)\n",
    "The simplest and most Pythonic way to check for a substring."
   ]
  },
  {
   "cell_type": "code",
   "execution_count": 42,
   "id": "518750fd-d645-4a9d-9e73-a618ae1d61f4",
   "metadata": {},
   "outputs": [
    {
     "name": "stdout",
     "output_type": "stream",
     "text": [
      "True\n",
      "False\n"
     ]
    }
   ],
   "source": [
    "text = \"Python programming is fun\"\n",
    "print(\"programming\" in text)  # Output: True\n",
    "print(\"java\" in text)         # Output: False"
   ]
  },
  {
   "cell_type": "markdown",
   "id": "d4986ed7-e570-4f30-8d08-8291d908ab19",
   "metadata": {},
   "source": [
    "#### ✅ 2. Using the .find() Method\n",
    "Returns the index of the first occurrence or -1 if not found."
   ]
  },
  {
   "cell_type": "code",
   "execution_count": 43,
   "id": "a2d10f1f-70d8-41e9-9954-70973aecfe13",
   "metadata": {},
   "outputs": [
    {
     "name": "stdout",
     "output_type": "stream",
     "text": [
      "7\n",
      "-1\n"
     ]
    }
   ],
   "source": [
    "text = \"I love learning Python\"\n",
    "print(text.find(\"learning\"))  # Output: 7 (found at index 7)\n",
    "print(text.find(\"Java\"))      # Output: -1 (not found)\n"
   ]
  },
  {
   "cell_type": "markdown",
   "id": "92e2bf00-d9a5-43ea-bb30-5c08c582d2f8",
   "metadata": {},
   "source": []
  },
  {
   "cell_type": "markdown",
   "id": "8aac8b27-dbd0-4878-8250-995ab63a615a",
   "metadata": {},
   "source": [
    "# Part 3 Control structures\n",
    "### - conditional statements\n",
    "### - loops\n",
    "### - loop control statements\n",
    "### - try-except-finally\n",
    "### - match\n",
    "\n",
    "## Part 3.1 Conditional Statements (if-elif-else)\n",
    "\n",
    "Conditional statements allow a program to make decisions based on conditions. The `if` statement checks a condition, and if it's `True`, executes the corresponding block of code. The `elif` (else if) statement provides additional conditions to check, and `else` executes a block if none of the conditions are met.\n",
    "\n",
    "### Syntax:\n",
    "```python\n",
    "if condition:\n",
    "    # Code executes if condition is True\n",
    "elif another_condition:\n",
    "    # Code executes if first condition is False and this condition is True\n",
    "else:\n",
    "    # Code executes if none of the above conditions are True\n",
    "```"
   ]
  },
  {
   "cell_type": "code",
   "execution_count": 2,
   "id": "63ddbcda-4a5f-4b0b-bf25-40cf04b91584",
   "metadata": {},
   "outputs": [
    {
     "name": "stdout",
     "output_type": "stream",
     "text": [
      "Positive number\n"
     ]
    }
   ],
   "source": [
    "x = 10\n",
    "\n",
    "if x > 0:\n",
    "    print(\"Positive number\")\n",
    "elif x == 0:\n",
    "    print(\"Zero\")\n",
    "else:\n",
    "    print(\"Negative number\")\n"
   ]
  },
  {
   "cell_type": "code",
   "execution_count": 5,
   "id": "d4870147-0bdd-415f-be1f-5565463b840b",
   "metadata": {},
   "outputs": [
    {
     "name": "stdout",
     "output_type": "stream",
     "text": [
      "Positive number\n"
     ]
    }
   ],
   "source": [
    "x = 10\n",
    "\n",
    "if x > 0:\n",
    "    print(\"Positive number\")\n",
    "elif x == 0:\n",
    "    print(\"Zero\")"
   ]
  },
  {
   "cell_type": "code",
   "execution_count": 6,
   "id": "809d62d9-13ce-4ab2-a91e-1e4c07c01174",
   "metadata": {},
   "outputs": [],
   "source": [
    "x = -9\n",
    "\n",
    "if x > 0:\n",
    "    print(\"Positive number\")\n",
    "elif x == 0:\n",
    "    print(\"Zero\")"
   ]
  },
  {
   "cell_type": "markdown",
   "id": "18849c9c-cec1-402d-8bc0-c286612f2d93",
   "metadata": {},
   "source": [
    "### Exercise time:\n",
    "\n",
    "Complete the function `check_string` so that it implements the functionality specified within the triple quotation marks"
   ]
  },
  {
   "cell_type": "code",
   "execution_count": 50,
   "id": "6430d94a-2146-4315-ac4c-155689e8b465",
   "metadata": {},
   "outputs": [
    {
     "name": "stdin",
     "output_type": "stream",
     "text": [
      "your input :  history\n"
     ]
    },
    {
     "name": "stdout",
     "output_type": "stream",
     "text": [
      "history\n"
     ]
    }
   ],
   "source": [
    "# Create a user defined string \n",
    "# assign it to string_to_check\n",
    "string_to_check = input(\"your input : \")\n",
    "print(string_to_check)"
   ]
  },
  {
   "cell_type": "code",
   "execution_count": 48,
   "id": "1f02c338-febf-4f42-97e9-7cda03894ecf",
   "metadata": {},
   "outputs": [],
   "source": [
    "def check_string( string_to_check ):\n",
    "    \"\"\"\n",
    "    This function checks if the substring \"ing\" exists in the input string\n",
    "    if it does, the output message is \"The substring ing exists in the input string\n",
    "    if it doesn't, the output message is \"The substring ing does not exist in the input string\"\n",
    "    This function does not return any argument.\n",
    "    \"\"\"\n",
    "    message = \"The substring \\\"ing\\\" \"\n",
    "    # complete the code here\n",
    "\n",
    "\n",
    "    \n",
    "    print(message) "
   ]
  },
  {
   "cell_type": "code",
   "execution_count": 49,
   "id": "b921bf64-4363-481a-a3a7-d875b02e7057",
   "metadata": {},
   "outputs": [
    {
     "name": "stdout",
     "output_type": "stream",
     "text": [
      "The substring \"ing\" exists in the input string\n"
     ]
    }
   ],
   "source": [
    "# Call the function you completed\n",
    "check_string(string_to_check)"
   ]
  },
  {
   "cell_type": "markdown",
   "id": "0b131371-3591-43d7-8399-55b43cb44752",
   "metadata": {},
   "source": [
    "## Part 3.2 Loops \n",
    "\n",
    "Loops allow executing a block of code multiple times. Python provides two main types of loops:\n",
    "\n",
    "### 1. `for` Loop\n",
    "A `for` loop is used to iterate over a sequence (such as a list, tuple, dictionary, or string).\n",
    "\n",
    "### 2. `while` Loop\n",
    "A `while` loop executes as long as a specified condition is `True`.\n",
    "\n",
    "### Syntax:\n",
    "\n",
    "#### `for` Loop:\n",
    "```python\n",
    "for variable in sequence:\n",
    "    # Code block to execute\n",
    "```\n",
    "\n",
    "#### `while` loop:\n",
    "```python\n",
    "    while condition:\n",
    "        # Code block to execute\n",
    "```"
   ]
  },
  {
   "cell_type": "code",
   "execution_count": 7,
   "id": "132bdefb-a099-41aa-ad4c-ebf7decc2cdc",
   "metadata": {},
   "outputs": [
    {
     "name": "stdout",
     "output_type": "stream",
     "text": [
      "0\n",
      "1\n",
      "2\n",
      "3\n",
      "4\n"
     ]
    }
   ],
   "source": [
    "for i in range(5):  # Loops from 0 to 4\n",
    "    print(i)\n",
    "\n"
   ]
  },
  {
   "cell_type": "code",
   "execution_count": 8,
   "id": "0c477ce4-c97d-458a-ad3a-bd91f6dbbf6a",
   "metadata": {},
   "outputs": [
    {
     "name": "stdout",
     "output_type": "stream",
     "text": [
      "5\n",
      "3\n",
      "1\n"
     ]
    }
   ],
   "source": [
    "a = [5, 3, 1]\n",
    "for i in a:\n",
    "    print(i)"
   ]
  },
  {
   "cell_type": "code",
   "execution_count": 14,
   "id": "c6f26c40-1d82-4eb3-b35b-dacf9e036a61",
   "metadata": {},
   "outputs": [
    {
     "name": "stdout",
     "output_type": "stream",
     "text": [
      "0\n",
      "1\n",
      "2\n",
      "3\n",
      "4\n"
     ]
    }
   ],
   "source": [
    "x = 0\n",
    "while x < 5:\n",
    "    print(x)\n",
    "    x += 1"
   ]
  },
  {
   "cell_type": "markdown",
   "id": "4e68c58f-03b3-469c-9275-b0d38f1eefa7",
   "metadata": {},
   "source": [
    "### What are Iterables in the Context of a `for` Loop?\n",
    "\n",
    "In Python, an **iterable** is any object that can return its elements one at a time, allowing it to be used in a `for` loop. An iterable provides data to loop over, making it a fundamental part of iteration.\n",
    "\n",
    "---\n",
    "\n",
    "#### Types of Iterables in a `for` Loop\n",
    "The most common iterables in Python include:\n",
    "\n",
    "1. **Sequences** (Ordered collections)\n",
    "   - `list` → `for item in [1, 2, 3]:`\n",
    "   - `tuple` → `for item in (1, 2, 3):`\n",
    "   - `string` → `for char in \"hello\":`\n",
    "   - `range` → `for num in range(5):`\n",
    "\n",
    "2. **Dictionaries** (Key-value pairs)\n",
    "   - Iterate over keys: `for key in my_dict:`\n",
    "   - Iterate over values: `for value in my_dict.values():`\n",
    "   - Iterate over key-value pairs: `for key, value in my_dict.items():`\n",
    "\n",
    "3. **Sets** (Unordered unique values)\n",
    "   - `for item in {1, 2, 3}:`\n",
    "\n",
    "4. **Generators & Iterators** (Lazily evaluated objects)\n",
    "   - `for item in generator_function():`\n",
    "\n",
    "---\n",
    "\n",
    "#### Example: Iterating Over Different Iterables\n",
    "```python\n",
    "# List\n",
    "numbers = [10, 20, 30]\n",
    "for num in numbers:\n",
    "    print(num)\n",
    "\n",
    "# String (iterates over characters)\n",
    "word = \"Python\"\n",
    "for char in word:\n",
    "    print(char)\n",
    "\n",
    "# Dictionary (iterates over keys by default)\n",
    "student_scores = {\"Alice\": 90, \"Bob\": 85, \"Charlie\": 88}\n",
    "for name in student_scores:\n",
    "    print(name, \"scored\", student_scores[name])\n",
    "\n",
    "# Range\n",
    "for i in range(5):  # Iterates from 0 to 4\n",
    "    print(i)\n"
   ]
  },
  {
   "cell_type": "markdown",
   "id": "cc4174e2-cab2-4129-8ce1-a18ee1d874bd",
   "metadata": {},
   "source": [
    "#### (Bonus) How Python Handles Iterables Internally\n",
    "Python internally converts an iterable into an iterator using the **iter()** function. An iterator is an object that maintains state and produces the next value when **next()** is called."
   ]
  },
  {
   "cell_type": "code",
   "execution_count": 63,
   "id": "a75223b8-e39a-4ccc-8fa1-f60e010d17d9",
   "metadata": {},
   "outputs": [
    {
     "name": "stdout",
     "output_type": "stream",
     "text": [
      "<list_iterator object at 0x7a0682eaf550>\n",
      "1\n",
      "2\n",
      "3\n"
     ]
    }
   ],
   "source": [
    "numbers = [1, 2, 3]\n",
    "iter_obj = iter(numbers)  # Get iterator\n",
    "\n",
    "print(iter_obj)\n",
    "print(next(iter_obj))  # Output: 1\n",
    "print(next(iter_obj))  # Output: 2\n",
    "print(next(iter_obj))  # Output: 3\n",
    "# print(next(iter_obj))  # Would raise StopIteration\n"
   ]
  },
  {
   "cell_type": "markdown",
   "id": "3f3e2e02-b471-42f8-973f-4c0d77b89d17",
   "metadata": {},
   "source": [
    "## Part 3.3. Loop Control Statements\n",
    "\n",
    "Loop control statements modify the flow of loops. Python provides three main control statements:\n",
    "\n",
    "### 1. `break`\n",
    "   - Exits the loop immediately when encountered.\n",
    "\n",
    "### 2. `continue`\n",
    "   - Skips the current iteration and moves to the next.\n",
    "\n",
    "### 3. `pass`\n",
    "   - Acts as a placeholder when a statement is syntactically required but no action is needed.\n",
    "\n",
    "### Example:\n",
    "\n",
    "#### `break` Example:\n",
    "```python\n",
    "for i in range(10):\n",
    "    if i == 5:\n",
    "        break  # Stops the loop when i is 5\n",
    "    print(i)\n",
    "```"
   ]
  },
  {
   "cell_type": "code",
   "execution_count": 64,
   "id": "f54afdb2-35a9-4a32-a3cd-4d6cb5392307",
   "metadata": {},
   "outputs": [
    {
     "name": "stdout",
     "output_type": "stream",
     "text": [
      "0\n",
      "1\n",
      "2\n",
      "3\n",
      "4\n",
      "6\n",
      "7\n",
      "8\n",
      "9\n"
     ]
    }
   ],
   "source": [
    "for i in range(10):\n",
    "    if i == 5:\n",
    "        continue  # Skips when i is 5\n",
    "    print(i)\n"
   ]
  },
  {
   "cell_type": "code",
   "execution_count": 65,
   "id": "81e9043b-a421-4bbd-a244-2073be45a8ad",
   "metadata": {},
   "outputs": [
    {
     "name": "stdout",
     "output_type": "stream",
     "text": [
      "0\n",
      "1\n",
      "2\n",
      "3\n",
      "4\n"
     ]
    }
   ],
   "source": [
    "for i in range(5):\n",
    "    if i == 2:\n",
    "        pass  # Placeholder; does nothing\n",
    "    print(i)\n"
   ]
  },
  {
   "cell_type": "markdown",
   "id": "f831e7da-ce5d-40a2-bc13-b000c873b7d3",
   "metadata": {},
   "source": [
    "### Exercise time:\n",
    "\n",
    "How do you print something like\n",
    "```\n",
    "*****\n",
    "*****\n",
    "*****\n",
    "*****\n",
    "*****\n",
    "```\n",
    "with for loop?\n",
    "\n",
    "\n"
   ]
  },
  {
   "cell_type": "code",
   "execution_count": null,
   "id": "4f66e71b-3f1f-4f81-a14a-3c445e277a29",
   "metadata": {},
   "outputs": [],
   "source": [
    "# your code?"
   ]
  },
  {
   "cell_type": "markdown",
   "id": "5b210109-72ec-4522-b515-e9586adc1222",
   "metadata": {},
   "source": [
    "Can we modify the script so that it prints out something like\n",
    "```\n",
    "*****\n",
    "*****\n",
    "*****\n",
    "*****\n",
    "*****\n",
    "|\n",
    "|\n",
    "|\n",
    "|\n",
    "```\n"
   ]
  },
  {
   "cell_type": "code",
   "execution_count": null,
   "id": "48e110a6-f06a-4683-baab-0e8603153158",
   "metadata": {},
   "outputs": [],
   "source": [
    "# Your code "
   ]
  },
  {
   "cell_type": "markdown",
   "id": "4a27fbba-d263-43dc-8773-ec136dd2c140",
   "metadata": {},
   "source": [
    "\n",
    "How about\n",
    "```\n",
    "*\n",
    "**\n",
    "***\n",
    "****\n",
    "*****\n",
    "|\n",
    "|\n",
    "|\n",
    "|\n",
    "```\n",
    "?"
   ]
  },
  {
   "cell_type": "markdown",
   "id": "3a73d725-8e3d-47ad-a790-29044146febd",
   "metadata": {},
   "source": [
    "## Part 3.4 Exception Handling (try-except-finally)\n",
    "\n",
    "Exception handling allows a program to deal with runtime errors gracefully without crashing. Python provides the `try-except-finally` structure for handling exceptions.\n",
    "\n",
    "### Components:\n",
    "1. **`try` block**: Contains the code that may raise an exception.\n",
    "2. **`except` block**: Handles the exception if it occurs.\n",
    "3. **`finally` block**: (Optional) Executes code regardless of whether an exception occurs.\n",
    "\n",
    "### Syntax:\n",
    "```python\n",
    "try:\n",
    "    # Code that might raise an exception\n",
    "except ExceptionType:\n",
    "    # Handle the exception\n",
    "finally:\n",
    "    # Code that always executes (optional)\n"
   ]
  },
  {
   "cell_type": "code",
   "execution_count": 61,
   "id": "18db1eab-0711-42e3-9d67-b33d4c415b72",
   "metadata": {},
   "outputs": [
    {
     "ename": "ZeroDivisionError",
     "evalue": "division by zero",
     "output_type": "error",
     "traceback": [
      "\u001b[0;31m---------------------------------------------------------------------------\u001b[0m",
      "\u001b[0;31mZeroDivisionError\u001b[0m                         Traceback (most recent call last)",
      "Cell \u001b[0;32mIn[61], line 1\u001b[0m\n\u001b[0;32m----> 1\u001b[0m result \u001b[38;5;241m=\u001b[39m \u001b[38;5;241;43m10\u001b[39;49m\u001b[43m \u001b[49m\u001b[38;5;241;43m/\u001b[39;49m\u001b[43m \u001b[49m\u001b[38;5;241;43m0\u001b[39;49m\n",
      "\u001b[0;31mZeroDivisionError\u001b[0m: division by zero"
     ]
    }
   ],
   "source": [
    "result = 10 / 0"
   ]
  },
  {
   "cell_type": "code",
   "execution_count": 27,
   "id": "7084c304-363d-40bc-87b0-a6f1f8141854",
   "metadata": {},
   "outputs": [
    {
     "name": "stdout",
     "output_type": "stream",
     "text": [
      "Cannot divide by zero!\n",
      "Execution finished.\n"
     ]
    }
   ],
   "source": [
    "try:\n",
    "    result = 10 / 0  # This will cause a ZeroDivisionError\n",
    "except ZeroDivisionError:\n",
    "    print(\"Cannot divide by zero!\")\n",
    "finally:\n",
    "    print(\"Execution finished.\")\n"
   ]
  },
  {
   "cell_type": "markdown",
   "id": "d2a64df6-a2b2-4d3f-b1c4-a6bf8460eb10",
   "metadata": {},
   "source": [
    "\n",
    "### Why Do We Need to Handle Exceptions?\n",
    "\n",
    "Exception handling is essential in Python to ensure robust and error-free programs. Here are a few key reasons why we need to handle exceptions:\n",
    "\n",
    "#### 1. **Prevents Program Crashes**\n",
    "   - Without exception handling, an unexpected error (e.g., division by zero, missing file) can cause the program to crash.\n",
    "   - Handling exceptions allows the program to continue running or exit gracefully.\n",
    "\n",
    "#### 2. **Improves Debugging and Logging**\n",
    "   - Instead of displaying an unhelpful error traceback, exception handling lets you log meaningful error messages.\n",
    "   - Helps in tracking issues in large applications.\n",
    "\n",
    "#### 3. **Ensures Proper Resource Management**\n",
    "   - The `finally` block ensures resources like file handles, database connections, and network sockets are properly closed.\n",
    "   - Prevents memory leaks and resource exhaustion.\n",
    "\n",
    "#### 4. **Enhances User Experience**\n",
    "   - Instead of cryptic error messages, you can provide user-friendly feedback.\n",
    "   - Useful in applications with UI or web interfaces.\n",
    "\n"
   ]
  },
  {
   "cell_type": "markdown",
   "id": "976f6d1d-d2a7-48dd-aafa-ce757ddcf651",
   "metadata": {},
   "source": [
    "\n",
    "#### (Bonus) How to Find Built-in Exception Types in Python\n",
    "\n",
    "Python provides a wide range of built-in exceptions to handle different types of errors. You can discover them in multiple ways:\n",
    "\n",
    "---\n",
    "\n",
    "##### 1. Using the `builtins` Module\n",
    "The `builtins` module contains all the built-in exceptions. You can list them using:\n",
    "\n",
    "```python\n",
    "import builtins\n",
    "\n",
    "# Print all built-in exception names\n",
    "print([name for name in dir(builtins) if name.endswith(\"Error\")])\n",
    "```"
   ]
  },
  {
   "cell_type": "code",
   "execution_count": 32,
   "id": "a5dd48ac-9cf7-4fe3-aa66-a945863bd5d2",
   "metadata": {},
   "outputs": [
    {
     "name": "stdout",
     "output_type": "stream",
     "text": [
      "['ArithmeticError', 'AssertionError', 'AttributeError', 'BlockingIOError', 'BrokenPipeError', 'BufferError', 'ChildProcessError', 'ConnectionAbortedError', 'ConnectionError', 'ConnectionRefusedError', 'ConnectionResetError', 'EOFError', 'EnvironmentError', 'FileExistsError', 'FileNotFoundError', 'FloatingPointError', 'IOError', 'ImportError', 'IndentationError', 'IndexError', 'InterruptedError', 'IsADirectoryError', 'KeyError', 'LookupError', 'MemoryError', 'ModuleNotFoundError', 'NameError', 'NotADirectoryError', 'NotImplementedError', 'OSError', 'OverflowError', 'PermissionError', 'ProcessLookupError', 'RecursionError', 'ReferenceError', 'RuntimeError', 'SyntaxError', 'SystemError', 'TabError', 'TimeoutError', 'TypeError', 'UnboundLocalError', 'UnicodeDecodeError', 'UnicodeEncodeError', 'UnicodeError', 'UnicodeTranslateError', 'ValueError', 'ZeroDivisionError']\n"
     ]
    }
   ],
   "source": [
    "import builtins\n",
    "\n",
    "# Print all built-in exception names\n",
    "print([name for name in dir(builtins) if name.endswith(\"Error\")])\n"
   ]
  },
  {
   "cell_type": "markdown",
   "id": "7014799a-0995-450a-a6ef-330b4af6d5e6",
   "metadata": {},
   "source": [
    "##### 2. Official Python Documentation\n",
    "You can find a complete list of built-in exceptions in Python’s official documentation:\n",
    "\n",
    "🔗 [Python Built-in Exceptions](https://docs.python.org/3/library/exceptions.html)\n",
    "\n",
    "---\n",
    "\n",
    "##### 3. Common Built-in Exceptions\n",
    "Here are some commonly encountered errors:\n",
    "\n",
    "| Exception              | Description |\n",
    "|------------------------|-------------|\n",
    "| `ZeroDivisionError`    | Raised when dividing by zero. |\n",
    "| `FileNotFoundError`    | Raised when a file or directory is not found. |\n",
    "| `ValueError`           | Raised when an operation receives an argument of the right type but an invalid value. |\n",
    "| `TypeError`           | Raised when an operation is performed on incompatible types. |\n",
    "| `IndexError`          | Raised when accessing an invalid index of a list or tuple. |\n",
    "| `KeyError`            | Raised when accessing a missing key in a dictionary. |\n",
    "| `NameError`           | Raised when using an undefined variable or function. |\n",
    "| `AttributeError`      | Raised when trying to access an undefined attribute of an object. |\n",
    "| `ImportError`         | Raised when an import statement fails to find a module. |\n",
    "| `ModuleNotFoundError` | A subclass of `ImportError`, raised when a module is not found. |\n",
    "| `RuntimeError`        | Raised when an error does not fit into any other category. |\n",
    "| `MemoryError`         | Raised when memory allocation fails. |\n",
    "| `RecursionError`      | Raised when maximum recursion depth is exceeded. |\n",
    "| `OSError`             | Raised when a system-related operation fails. |\n",
    "\n"
   ]
  },
  {
   "cell_type": "markdown",
   "id": "5a5f4dde-322c-47e7-be63-1fa885858767",
   "metadata": {},
   "source": [
    "### Catching Multiple Exceptions\n",
    "\n",
    "Below is a situation where you may have multiple exceptions"
   ]
  },
  {
   "cell_type": "code",
   "execution_count": 35,
   "id": "e84840d7-df89-47cd-bd5f-78a0a82db6e3",
   "metadata": {},
   "outputs": [
    {
     "name": "stdin",
     "output_type": "stream",
     "text": [
      "Enter a number:  dfas\n"
     ]
    },
    {
     "ename": "ValueError",
     "evalue": "invalid literal for int() with base 10: 'dfas'",
     "output_type": "error",
     "traceback": [
      "\u001b[0;31m---------------------------------------------------------------------------\u001b[0m",
      "\u001b[0;31mValueError\u001b[0m                                Traceback (most recent call last)",
      "Cell \u001b[0;32mIn[35], line 1\u001b[0m\n\u001b[0;32m----> 1\u001b[0m num \u001b[38;5;241m=\u001b[39m \u001b[38;5;28;43mint\u001b[39;49m\u001b[43m(\u001b[49m\u001b[38;5;28;43minput\u001b[39;49m\u001b[43m(\u001b[49m\u001b[38;5;124;43m\"\u001b[39;49m\u001b[38;5;124;43mEnter a number: \u001b[39;49m\u001b[38;5;124;43m\"\u001b[39;49m\u001b[43m)\u001b[49m\u001b[43m)\u001b[49m\n\u001b[1;32m      2\u001b[0m result \u001b[38;5;241m=\u001b[39m \u001b[38;5;241m10\u001b[39m \u001b[38;5;241m/\u001b[39m num\n\u001b[1;32m      3\u001b[0m \u001b[38;5;28;01mwith\u001b[39;00m \u001b[38;5;28mopen\u001b[39m(\u001b[38;5;124m\"\u001b[39m\u001b[38;5;124mfile.txt\u001b[39m\u001b[38;5;124m\"\u001b[39m, \u001b[38;5;124m\"\u001b[39m\u001b[38;5;124mr\u001b[39m\u001b[38;5;124m\"\u001b[39m) \u001b[38;5;28;01mas\u001b[39;00m f:\n",
      "\u001b[0;31mValueError\u001b[0m: invalid literal for int() with base 10: 'dfas'"
     ]
    }
   ],
   "source": [
    "num = int(input(\"Enter a number: \"))\n",
    "result = 10 / num\n",
    "with open(\"file.txt\", \"r\") as f:\n",
    "    content = f.read()"
   ]
  },
  {
   "cell_type": "markdown",
   "id": "4508847a-30f6-46fa-a159-c8e1af823e6e",
   "metadata": {},
   "source": [
    "You can catch multiple exceptions in a try-except block like this:"
   ]
  },
  {
   "cell_type": "code",
   "execution_count": 33,
   "id": "f464ed94-cefd-4e3b-b3b4-c82f8af4e6a8",
   "metadata": {},
   "outputs": [
    {
     "name": "stdin",
     "output_type": "stream",
     "text": [
      "Enter a number:  dasfa\n"
     ]
    },
    {
     "name": "stdout",
     "output_type": "stream",
     "text": [
      "An error occurred: invalid literal for int() with base 10: 'dasfa'\n"
     ]
    }
   ],
   "source": [
    "try:\n",
    "    num = int(input(\"Enter a number: \"))\n",
    "    result = 10 / num\n",
    "    with open(\"file.txt\", \"r\") as f:\n",
    "        content = f.read()\n",
    "except (ZeroDivisionError, FileNotFoundError, ValueError) as e:\n",
    "    print(f\"An error occurred: {e}\")\n"
   ]
  },
  {
   "cell_type": "markdown",
   "id": "5474d805-3aef-4009-a95a-82188db41750",
   "metadata": {},
   "source": [
    "## Part 3.5  `match-case` (Python 3.10+)\n",
    "\n",
    "The `match-case` statement provides pattern matching, similar to `switch` statements in other languages. It allows for cleaner and more readable branching logic.\n",
    "\n",
    "### Syntax:\n",
    "```python\n",
    "match variable:\n",
    "    case pattern1:\n",
    "        # Code executes if variable matches pattern1\n",
    "    case pattern2:\n",
    "        # Code executes if variable matches pattern2\n",
    "    case _:\n",
    "        # Default case (matches anything)\n",
    "```\n",
    "\n",
    "* _ acts as the default case, similar to else in if-elif-else.\n"
   ]
  },
  {
   "cell_type": "code",
   "execution_count": 22,
   "id": "44224b20-647f-4568-bfc3-b74e9010f50c",
   "metadata": {},
   "outputs": [
    {
     "name": "stdout",
     "output_type": "stream",
     "text": [
      "Starting...\n"
     ]
    }
   ],
   "source": [
    "command = \"start\"\n",
    "\n",
    "match command:\n",
    "    case \"start\":\n",
    "        print(\"Starting...\")\n",
    "    case \"stop\":\n",
    "        print(\"Stopping...\")\n",
    "    case \"pause\":\n",
    "        print(\"Pausing...\")\n",
    "    case _:\n",
    "        print(\"Unknown command\")\n"
   ]
  },
  {
   "cell_type": "code",
   "execution_count": 21,
   "id": "b40cebbd-2728-43ba-acfb-a994ad796a7d",
   "metadata": {},
   "outputs": [],
   "source": [
    "command = \"startfdsa\"\n",
    "\n",
    "match command:\n",
    "    case \"start\":\n",
    "        print(\"Starting...\")\n",
    "    case \"stop\":\n",
    "        print(\"Stopping...\")\n",
    "    case \"pause\":\n",
    "        print(\"Pausing...\")\n"
   ]
  },
  {
   "cell_type": "markdown",
   "id": "9ab1b892-6fc9-4e70-a0d2-608c20474afb",
   "metadata": {},
   "source": [
    "---\n",
    "# Part 4 Quiz\n",
    "\n",
    "---"
   ]
  },
  {
   "cell_type": "markdown",
   "id": "97e182c6-297a-460e-bceb-4a2c52aa2f3b",
   "metadata": {},
   "source": [
    "--- \n",
    "# Part 5 Introduction to Numpy Array "
   ]
  }
 ],
 "metadata": {
  "kernelspec": {
   "display_name": "Python 3 (ipykernel)",
   "language": "python",
   "name": "python3"
  },
  "language_info": {
   "codemirror_mode": {
    "name": "ipython",
    "version": 3
   },
   "file_extension": ".py",
   "mimetype": "text/x-python",
   "name": "python",
   "nbconvert_exporter": "python",
   "pygments_lexer": "ipython3",
   "version": "3.11.11"
  }
 },
 "nbformat": 4,
 "nbformat_minor": 5
}
