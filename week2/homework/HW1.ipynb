{
 "cells": [
  {
   "cell_type": "markdown",
   "id": "5a9134d4-b9d1-4727-ac50-fd9fb026198c",
   "metadata": {},
   "source": [
    "# Homework 1, February 6, 2025\n",
    "\n",
    "due 8:59 pm, February 14, 2025 \n",
    "\n",
    "You must submit the notebook to bCourses and a PDF printout of this notebook to gradescope."
   ]
  },
  {
   "cell_type": "markdown",
   "id": "43e08c31-9c9c-4a60-b1bc-69f36089c814",
   "metadata": {},
   "source": [
    "# Problem 0: course policy agreements (10 pt)\n",
    "I confirm that I have read the syllabus and agreed to the policies outlined there.\n",
    "\n",
    "Sign here by typing your full name in this markdown cell\n",
    "\n"
   ]
  },
  {
   "cell_type": "markdown",
   "id": "95c94ef6-7328-4e94-9b75-d8fd913ec14c",
   "metadata": {},
   "source": [
    "# Problem 1: List operation (50 pt, 10 for each part)\n",
    "\n",
    "## Part 1\n",
    "listA = [4, 2, 1, 1, 5]\n",
    "\n",
    "Review methods available for list in Python, identify and call the method that rearranges the entries in descending order"
   ]
  },
  {
   "cell_type": "code",
   "execution_count": null,
   "id": "1d1a6bd2-484c-4ac1-b61e-9bfa8d2ecf05",
   "metadata": {},
   "outputs": [],
   "source": [
    "#your answer"
   ]
  },
  {
   "cell_type": "markdown",
   "id": "58dc170c-624a-4f1c-824c-3ee63883b8c4",
   "metadata": {},
   "source": [
    "## Part 2\n",
    "\n",
    "listB = [1, 2, 10, 90]\n",
    "\n",
    "Review methods availabe for list in Python, identify and call the method that combines listA and listB"
   ]
  },
  {
   "cell_type": "code",
   "execution_count": null,
   "id": "59082940-abb1-4992-8d66-d201235bbe09",
   "metadata": {},
   "outputs": [],
   "source": [
    "#your answer"
   ]
  },
  {
   "cell_type": "markdown",
   "id": "e753115e-05e9-4e42-83b0-3494bf45cca3",
   "metadata": {},
   "source": [
    "## Part 3\n",
    "\n",
    "Review methods availabe for list in Python, identify and call the method that allows you to insert an entry of 8 to listA as the second entry of the list\n"
   ]
  },
  {
   "cell_type": "code",
   "execution_count": null,
   "id": "15f1919d-356e-4ec8-87fa-9648fb0724f7",
   "metadata": {},
   "outputs": [],
   "source": [
    "#your answer"
   ]
  },
  {
   "cell_type": "markdown",
   "id": "a6e7e2d2-0bbd-4c0f-879a-a54ba5ab729b",
   "metadata": {},
   "source": [
    "## Part 4\n",
    "\n",
    "Review methods availabe for list in Python, identify and call the method that allows you to delete entries that are 5 in listA\n"
   ]
  },
  {
   "cell_type": "code",
   "execution_count": null,
   "id": "1e2e9d6f-c4f7-44b2-a290-ca35a464da45",
   "metadata": {},
   "outputs": [],
   "source": [
    "#your answer"
   ]
  },
  {
   "cell_type": "markdown",
   "id": "9a73c61c-30bf-4f05-b81b-a437608421be",
   "metadata": {},
   "source": [
    "## Part 5\n",
    "\n",
    "How do you figure out how many entries are in a list? Can you search the answer?\n",
    "\n",
    "For this question, define a function that takes one input argument, which is a list. The function check the ``length'' (number of entries) in the list and return it. Use this function to check the length of listA"
   ]
  },
  {
   "cell_type": "markdown",
   "id": "b6a621ad-0037-47f9-bf8b-84214fd96706",
   "metadata": {},
   "source": [
    "# Problem 2: Logic Operations (30 pts, 20 pt for correct definition of the function, 10 pt for verifying the answers)\n",
    "\n",
    "Logical operations are used to evaluate expressions and return boolean values (`True` or `False`). The primary logical operators are:\n",
    "\n",
    "- **AND (`and`)**: Returns `True` if **both** conditions are `True`.\n",
    "- **OR (`or`)**: Returns `True` if **at least one** condition is `True`.\n",
    "- **NOT (`not`)**: Inverts the boolean value (`True` becomes `False`, and vice versa).\n",
    "\n",
    "These operators help combine multiple conditions to control program flow in decision-making structures.\n",
    "\n",
    "# Logical AND Function Description\n",
    "\n",
    "Define a boolean function that returns the logical AND of `condition1` and `condition2`.\n",
    "\n",
    "- **Condition1** is the logical OR of:\n",
    "  - $\\log(x) < \\sqrt{y}$\n",
    "  - $\\sin(x) > \\cos(y)$\n",
    "\n",
    "- **Condition2** is the logical AND of:\n",
    "  - $\\exp(x \\cdot y) > x \\cdot y$\n",
    "  - $\\frac{1}{x} > \\frac{1}{y}$\n",
    "\n",
    "Hint: what module do you need to import to call functions like log, sin, etc?"
   ]
  },
  {
   "cell_type": "code",
   "execution_count": null,
   "id": "a2b9d14e-a59d-475f-ac9c-e5446d9698b8",
   "metadata": {},
   "outputs": [],
   "source": [
    "#your answer"
   ]
  },
  {
   "cell_type": "markdown",
   "id": "adde8756-6db9-4003-ac67-1b86bba3b083",
   "metadata": {},
   "source": [
    "Call the defined function to report results for \n",
    "\n",
    "- x = 0.1, y = 0.1\n",
    "- x = 1.5, y = 4"
   ]
  },
  {
   "cell_type": "code",
   "execution_count": null,
   "id": "473dda2c-5009-4164-a322-1c9da8a42fa1",
   "metadata": {},
   "outputs": [],
   "source": [
    "#your answer"
   ]
  },
  {
   "cell_type": "markdown",
   "id": "499c9cfc-6903-4ef4-aa11-b4bcd728b85c",
   "metadata": {},
   "source": [
    "## Required disclosure of use of AI technologies for homework assignment (10 pt)\n",
    "\n",
    "Please indicate whether you used AI to complete this homework. If you did, explain how you used it in this markdown cell."
   ]
  },
  {
   "cell_type": "markdown",
   "id": "b7ff7974-6802-49e7-a5d9-80525a46f24a",
   "metadata": {},
   "source": [
    "Your answer:"
   ]
  }
 ],
 "metadata": {
  "kernelspec": {
   "display_name": "Python 3 (ipykernel)",
   "language": "python",
   "name": "python3"
  },
  "language_info": {
   "codemirror_mode": {
    "name": "ipython",
    "version": 3
   },
   "file_extension": ".py",
   "mimetype": "text/x-python",
   "name": "python",
   "nbconvert_exporter": "python",
   "pygments_lexer": "ipython3",
   "version": "3.11.11"
  }
 },
 "nbformat": 4,
 "nbformat_minor": 5
}
